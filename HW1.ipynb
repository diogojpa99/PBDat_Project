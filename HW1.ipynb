{
 "cells": [
  {
   "cell_type": "code",
   "execution_count": 17,
   "id": "5281c60c",
   "metadata": {},
   "outputs": [
    {
     "name": "stdout",
     "output_type": "stream",
     "text": [
      "Collecting opencv-python\n",
      "  Downloading opencv_python-4.5.5.64-cp36-abi3-win_amd64.whl (35.4 MB)\n",
      "Requirement already satisfied: numpy>=1.17.3 in c:\\users\\gonca\\anaconda3\\lib\\site-packages (from opencv-python) (1.22.3+vanilla)\n",
      "Installing collected packages: opencv-python\n",
      "Successfully installed opencv-python-4.5.5.64\n"
     ]
    },
    {
     "data": {
      "text/plain": [
       "(512, 10482)"
      ]
     },
     "execution_count": 17,
     "metadata": {},
     "output_type": "execute_result"
    }
   ],
   "source": [
    "!pip install opencv-python\n",
    "\n",
    "\n",
    "import scipy.io\n",
    "import pandas as pd\n",
    "from numpy.linalg import inv\n",
    "import numpy as np\n",
    "from numpy.linalg import matrix_rank\n",
    "from numpy.linalg import svd\n",
    "from scipy import linalg\n",
    "import matplotlib.pyplot as plt\n",
    "import matplotlib.image as mpimg\n",
    "\n",
    "mat = scipy.io.loadmat('girosmallveryslow2.mp4_features.mat')\n",
    "df = pd.DataFrame(mat['features'])\n",
    "Matrix = df.to_numpy()\n",
    "Base = Matrix[:,5894:5906]\n",
    "Matrix.shape"
   ]
  },
  {
   "cell_type": "code",
   "execution_count": null,
   "id": "589581ff",
   "metadata": {},
   "outputs": [],
   "source": []
  },
  {
   "cell_type": "code",
   "execution_count": 5,
   "id": "771d9fd2",
   "metadata": {},
   "outputs": [
    {
     "name": "stdout",
     "output_type": "stream",
     "text": [
      "[[1.8000458  2.26594    1.8627845  ... 2.197496   2.5490172  2.4853127 ]\n",
      " [0.02794812 0.15555473 0.22973426 ... 0.22001772 0.22537997 0.21277605]\n",
      " [0.03847306 0.1561261  0.04150863 ... 0.6754089  0.87902683 0.84594303]\n",
      " ...\n",
      " [0.05752653 0.08565312 0.08887959 ... 0.24699141 0.05551713 0.14446455]\n",
      " [0.30677146 0.19653176 0.34869042 ... 0.58008075 0.44082928 0.54057395]\n",
      " [0.33480862 0.16423725 0.21740076 ... 0.29398447 0.52627003 0.2571485 ]]\n"
     ]
    },
    {
     "data": {
      "text/plain": [
       "(512, 12)"
      ]
     },
     "execution_count": 5,
     "metadata": {},
     "output_type": "execute_result"
    }
   ],
   "source": [
    "rank_B = matrix_rank(Base) # Get rank from the MAtrix\n",
    "# Projection on to the subspace\n",
    "\n",
    "C = np.matmul(inv(np.matmul(Base.T,Base)),np.matmul(Base.T,Matrix ))\n",
    "P = np.matmul(Base, C) #Calculate b prependicular\n",
    "R = np.subtract(Matrix,P)\n",
    "print(Base)\n",
    "NormP = np.linalg.norm(P, axis =0)\n",
    "index_Pnorm_sorted = np.argsort(NormP, axis=0)\n",
    "NormR = np.linalg.norm(R, axis =0)\n",
    "index_Rnorm_sorted = np.argsort(NormR, axis=0)\n",
    "\n",
    "rank_B\n",
    "Base.shape"
   ]
  },
  {
   "cell_type": "code",
   "execution_count": 6,
   "id": "452ce43c",
   "metadata": {},
   "outputs": [
    {
     "name": "stdout",
     "output_type": "stream",
     "text": [
      "[[-1.8558766e-01  1.3577907e-01  5.8508340e-02 ... -7.7937060e-05\n",
      "  -3.0609667e-02 -5.0071865e-02]\n",
      " [-1.6463445e-02  2.4178680e-02 -1.1397492e-03 ... -1.1074624e-04\n",
      "   2.6737183e-02  4.4702236e-02]\n",
      " [-3.2005031e-02  1.2402420e-01  6.0136709e-02 ... -1.2932642e-03\n",
      "   4.2652082e-02  1.4644236e-02]\n",
      " ...\n",
      " [-1.1656550e-02  1.5909063e-02 -8.6552063e-03 ...  9.9321187e-01\n",
      "  -4.2372962e-04  4.1587842e-03]\n",
      " [-3.4648839e-02  8.5225560e-02 -3.3765949e-02 ... -3.0270829e-03\n",
      "   9.6604806e-01 -7.9904305e-04]\n",
      " [-2.1394221e-02  1.0687318e-02  3.3725325e-02 ...  4.7195307e-03\n",
      "  -2.3496354e-03  9.7629094e-01]]\n"
     ]
    },
    {
     "data": {
      "text/plain": [
       "(512, 12)"
      ]
     },
     "execution_count": 6,
     "metadata": {},
     "output_type": "execute_result"
    }
   ],
   "source": [
    "# Reduce the number of the Base Matrix SVD\n",
    "u, s, vh = np.linalg.svd(Base)\n",
    "u.shape, s.shape, vh.shape\n",
    "s_lowrank = s[:3]\n",
    "s_lowrank = np.diag(s_lowrank)\n",
    "vh_lowrank = vh[:3]\n",
    "u_lowrank = u[:,:3]\n",
    "u_lowrank.shape, s_lowrank.shape, vh_lowrank.shape\n",
    "Base_lowrank = np.matmul(np.matmul(u_lowrank,s_lowrank), vh_lowrank)\n",
    "Base_lowrank.shape"
   ]
  },
  {
   "cell_type": "code",
   "execution_count": 14,
   "id": "b0e81741",
   "metadata": {},
   "outputs": [
    {
     "ename": "ModuleNotFoundError",
     "evalue": "No module named 'cv2'",
     "output_type": "error",
     "traceback": [
      "\u001b[1;31m---------------------------------------------------------------------------\u001b[0m",
      "\u001b[1;31mModuleNotFoundError\u001b[0m                       Traceback (most recent call last)",
      "\u001b[1;32m<ipython-input-14-23f67e556c0d>\u001b[0m in \u001b[0;36m<module>\u001b[1;34m\u001b[0m\n\u001b[1;32m----> 1\u001b[1;33m \u001b[1;32mimport\u001b[0m \u001b[0mcv2\u001b[0m\u001b[1;33m\u001b[0m\u001b[1;33m\u001b[0m\u001b[0m\n\u001b[0m\u001b[0;32m      2\u001b[0m \u001b[1;33m\u001b[0m\u001b[0m\n\u001b[0;32m      3\u001b[0m \u001b[0mvidcap\u001b[0m \u001b[1;33m=\u001b[0m \u001b[0mcv2\u001b[0m\u001b[1;33m.\u001b[0m\u001b[0mVideoCapture\u001b[0m\u001b[1;33m(\u001b[0m\u001b[1;34m'girosmallveryslow2.mp4'\u001b[0m\u001b[1;33m)\u001b[0m\u001b[1;33m\u001b[0m\u001b[1;33m\u001b[0m\u001b[0m\n\u001b[0;32m      4\u001b[0m \u001b[0msuccess\u001b[0m\u001b[1;33m,\u001b[0m\u001b[0mimage\u001b[0m \u001b[1;33m=\u001b[0m \u001b[0mvidcap\u001b[0m\u001b[1;33m.\u001b[0m\u001b[0mread\u001b[0m\u001b[1;33m(\u001b[0m\u001b[1;33m)\u001b[0m\u001b[1;33m\u001b[0m\u001b[1;33m\u001b[0m\u001b[0m\n\u001b[0;32m      5\u001b[0m \u001b[0mcount\u001b[0m \u001b[1;33m=\u001b[0m \u001b[1;36m0\u001b[0m\u001b[1;33m\u001b[0m\u001b[1;33m\u001b[0m\u001b[0m\n",
      "\u001b[1;31mModuleNotFoundError\u001b[0m: No module named 'cv2'"
     ]
    }
   ],
   "source": [
    "import cv2\n",
    "\n",
    "vidcap = cv2.VideoCapture('girosmallveryslow2.mp4')\n",
    "success,image = vidcap.read()\n",
    "count = 0\n",
    "\n",
    "while success:\n",
    "  cv2.imwrite(\"frame%d.jpg\" % count, image)     # save frame as JPEG file      \n",
    "  success,image = vidcap.read()\n",
    "  print('Read a new frame: ', success)\n",
    "  count += 1"
   ]
  },
  {
   "cell_type": "markdown",
   "id": "49149212",
   "metadata": {},
   "source": [
    "### Detection of outliers"
   ]
  },
  {
   "cell_type": "code",
   "execution_count": null,
   "id": "30fda254",
   "metadata": {},
   "outputs": [],
   "source": [
    "#Calculate orthogonal projection on to the Subspace\n",
    "PI = np.dot(Base,np.inv(Base.T,Base))"
   ]
  }
 ],
 "metadata": {
  "kernelspec": {
   "display_name": "Python 3",
   "language": "python",
   "name": "python3"
  },
  "language_info": {
   "codemirror_mode": {
    "name": "ipython",
    "version": 3
   },
   "file_extension": ".py",
   "mimetype": "text/x-python",
   "name": "python",
   "nbconvert_exporter": "python",
   "pygments_lexer": "ipython3",
   "version": "3.8.8"
  }
 },
 "nbformat": 4,
 "nbformat_minor": 5
}
